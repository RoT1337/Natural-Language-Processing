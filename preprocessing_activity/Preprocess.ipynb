{
 "cells": [
  {
   "cell_type": "code",
   "execution_count": 31,
   "metadata": {},
   "outputs": [],
   "source": [
    "import pandas as pd\n",
    "import spacy\n",
    "import nltk \n",
    "from nltk.corpus import stopwords"
   ]
  },
  {
   "cell_type": "code",
   "execution_count": 43,
   "metadata": {},
   "outputs": [],
   "source": [
    "nlp = spacy.load('en_core_web_sm')\n",
    "\n",
    "STOPWORDS = stopwords.words('english')\n",
    "\n",
    "debate_2016_csv = '2016uspresdebate.csv'\n",
    "\n",
    "# 'latin1', 'iso-8859-1', or 'cp1252'. Pandas reads files using utf-8 as default encoding\n",
    "df_csv = pd.read_csv(debate_2016_csv, encoding='latin1') \n",
    "text_column = df_csv['Text']\n",
    "text = text_column.tolist()"
   ]
  },
  {
   "cell_type": "code",
   "execution_count": 53,
   "metadata": {},
   "outputs": [],
   "source": [
    "porter_stemmer = nltk.PorterStemmer() \n",
    "\n",
    "def is_number(word):\n",
    "    try:\n",
    "        float(word)\n",
    "        return True\n",
    "    except ValueError:\n",
    "        return False\n",
    "\n",
    "processed_data = []\n",
    "for sentence in text_column:\n",
    "    if isinstance(sentence, list):\n",
    "        sentence = ' '.join(sentence)\n",
    "\n",
    "    # Normalize\n",
    "    normalized_words = sentence.lower().split(\" \")\n",
    "\n",
    "    for word in normalized_words:\n",
    "        # Skip Stop Words\n",
    "        if word in STOPWORDS or is_number(word):\n",
    "            continue\n",
    "\n",
    "        # Tokenize \n",
    "        tokenized_word = nltk.word_tokenize(word)\n",
    "\n",
    "        # Stem using NLTK's PorterStemmer\n",
    "        root = porter_stemmer.stem(word)\n",
    "\n",
    "        # Lemmatize using spaCy\n",
    "        doc = nlp(word)\n",
    "        lemmatized_word = doc[0].lemma_ if doc else word\n",
    "\n",
    "        processed_data.append({\n",
    "            'Original / Normalized' : word,\n",
    "            'Tokenized' : tokenized_word,\n",
    "            'Stemmed' : root,\n",
    "            'Lemmatized' : lemmatized_word\n",
    "        })\n"
   ]
  },
  {
   "cell_type": "code",
   "execution_count": 54,
   "metadata": {},
   "outputs": [
    {
     "name": "stdout",
     "output_type": "stream",
     "text": [
      "Processed words have been written to Tan, Robien Lee - Preprocessing Dataset (No stop words and numbers).xlsx\n"
     ]
    }
   ],
   "source": [
    "processed_df = pd.DataFrame(processed_data)\n",
    "\n",
    "output_file = 'Preprocessing Dataset (No stop words and numbers).xlsx'\n",
    "processed_df.to_excel(output_file, index=False)\n",
    "\n",
    "print(f\"Processed words have been written to {output_file}\")\n"
   ]
  },
  {
   "cell_type": "code",
   "execution_count": 52,
   "metadata": {},
   "outputs": [
    {
     "name": "stdout",
     "output_type": "stream",
     "text": [
      "Template for preprocessing\n",
      "Tokenized words:  ['Universal', 'we', \"'re\", 'recognition', 'become', 'being', 'happened']\n",
      "Normalized words:  ['universal', \"we're\", 'recognition', 'become', 'being', 'happened']\n",
      "Roots (Stemming) ['univers', \"we'r\", 'recognit', 'becom', 'be', 'happen']\n",
      "Lemmatized words:  ['Universal', 'we', 'be', 'recognition', 'become', 'be', 'happen']\n"
     ]
    }
   ],
   "source": [
    "# Template for preprocessing\n",
    "print(\"Template for preprocessing\")\n",
    "\n",
    "sentence = (\"Universal we're recognition become being happened\")\n",
    "tokenized_words = nltk.word_tokenize(sentence)\n",
    "normalized_list = sentence.lower().split(\" \")\n",
    "\n",
    "print(\"Tokenized words: \", tokenized_words)\n",
    "print(\"Normalized words: \", normalized_list)\n",
    "\n",
    "# stemming using NLTK\n",
    "porter_stemmer = nltk.PorterStemmer()\n",
    "roots = [porter_stemmer.stem(word) for word in normalized_list]\n",
    "\n",
    "print(\"Roots (Stemming)\", roots)\n",
    "\n",
    "# lemmatization using spaCy\n",
    "doc = nlp(sentence)\n",
    "lemmatized_words = [token.lemma_ for token in doc]\n",
    "\n",
    "print(\"Lemmatized words: \", lemmatized_words)"
   ]
  }
 ],
 "metadata": {
  "kernelspec": {
   "display_name": "Python 3",
   "language": "python",
   "name": "python3"
  },
  "language_info": {
   "codemirror_mode": {
    "name": "ipython",
    "version": 3
   },
   "file_extension": ".py",
   "mimetype": "text/x-python",
   "name": "python",
   "nbconvert_exporter": "python",
   "pygments_lexer": "ipython3",
   "version": "3.12.5"
  }
 },
 "nbformat": 4,
 "nbformat_minor": 2
}
