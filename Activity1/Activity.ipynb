{
 "cells": [
  {
   "cell_type": "code",
   "execution_count": 17,
   "id": "423473e0-0da9-441b-9904-5060082b1606",
   "metadata": {},
   "outputs": [],
   "source": [
    "import pandas as pd\n",
    "import spacy"
   ]
  },
  {
   "cell_type": "code",
   "execution_count": 18,
   "id": "d86849bc-bcb8-4852-8bf1-c61420f48ce0",
   "metadata": {},
   "outputs": [
    {
     "name": "stdout",
     "output_type": "stream",
     "text": [
      "Read\n"
     ]
    }
   ],
   "source": [
    "nlp = spacy.load('en_core_web_sm')\n",
    "\n",
    "book_xlsx = 'Book1.xlsx'\n",
    "df_xlsx = pd.read_excel(book_xlsx, header=None) \n",
    "\n",
    "#.iloc[: (select all rows), 0 (select first column)]\n",
    "texts = df_xlsx.iloc[:, 0].astype(str).tolist()\n",
    "\n",
    "print('Read')"
   ]
  },
  {
   "cell_type": "raw",
   "id": "1a10d783",
   "metadata": {},
   "source": [
    "texts_df = pd.DataFrame([texts], columns=['Text'])\n",
    "texts_output_file = 'TextsOutput.xlsx'\n",
    "texts_df.to_excel(texts_output_file, index=False)\n",
    "\n",
    "print(f\"Texts have been written to {texts_output_file}\")"
   ]
  },
  {
   "cell_type": "code",
   "execution_count": 19,
   "id": "4f739b71-213d-42c0-8288-23985e7d229a",
   "metadata": {},
   "outputs": [
    {
     "name": "stdout",
     "output_type": "stream",
     "text": [
      "Done\n"
     ]
    }
   ],
   "source": [
    "processed_data = []\n",
    "\n",
    "for text in texts:\n",
    "    doc = nlp(text)\n",
    "    for token in doc: \n",
    "        if token.is_stop or token.is_punct or token.like_url or token.text.startswith('@') or token.text.lower() == 'rt':\n",
    "            continue\n",
    "\n",
    "        processed_data.append({\n",
    "            'Tokenized Word' : token.text,\n",
    "            'Unique Word' : token.lemma_\n",
    "        }) \n",
    "\n",
    "print('Done')"
   ]
  },
  {
   "cell_type": "code",
   "execution_count": 21,
   "id": "852d7b93-0507-4130-a16a-728d28269546",
   "metadata": {},
   "outputs": [
    {
     "name": "stdout",
     "output_type": "stream",
     "text": [
      "Processed words have been written to TanRL_Activity1.xlsx\n"
     ]
    }
   ],
   "source": [
    "processed_df = pd.DataFrame(processed_data)\n",
    "\n",
    "output_file = 'TanRL_Activity1.xlsx'\n",
    "processed_df.to_excel(output_file, index=False)\n",
    "\n",
    "print(f\"Processed words have been written to {output_file}\")"
   ]
  }
 ],
 "metadata": {
  "kernelspec": {
   "display_name": "Python 3",
   "language": "python",
   "name": "python3"
  },
  "language_info": {
   "codemirror_mode": {
    "name": "ipython",
    "version": 3
   },
   "file_extension": ".py",
   "mimetype": "text/x-python",
   "name": "python",
   "nbconvert_exporter": "python",
   "pygments_lexer": "ipython3",
   "version": "3.12.5"
  }
 },
 "nbformat": 4,
 "nbformat_minor": 5
}
